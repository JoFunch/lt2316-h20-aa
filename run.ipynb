{
 "cells": [
  {
   "cell_type": "markdown",
   "metadata": {},
   "source": [
    "# Assignment 1"
   ]
  },
  {
   "cell_type": "markdown",
   "metadata": {},
   "source": [
    "## Loading data"
   ]
  },
  {
   "cell_type": "code",
   "execution_count": 1,
   "metadata": {
    "scrolled": false,
    "tags": []
   },
   "outputs": [],
   "source": [
    "from aa import DataLoader\n",
    "from aa import extract_features\n",
    "from aa import check_output\n",
    "import torch\n",
    "import tensorflow as tf"
   ]
  },
  {
   "cell_type": "code",
   "execution_count": 2,
   "metadata": {},
   "outputs": [],
   "source": [
    "device = torch.device(\"cuda:3\") # if torch.cuda.is_available() else \"cpu\")"
   ]
  },
  {
   "cell_type": "code",
   "execution_count": 3,
   "metadata": {
    "scrolled": true,
    "tags": []
   },
   "outputs": [
    {
     "name": "stdout",
     "output_type": "stream",
     "text": [
      "Printing Data_df\n",
      "              sentence_id     token_id char_start_id char_end_id  split\n",
      "1    DDI-DrugBank.d436.s0           No             0           1  train\n",
      "2    DDI-DrugBank.d436.s0         drug             3           6  train\n",
      "3    DDI-DrugBank.d436.s0  nutritional             8          18  train\n",
      "4    DDI-DrugBank.d436.s0   supplement            20          29  train\n",
      "5    DDI-DrugBank.d436.s0         food            31          34  train\n",
      "..                    ...          ...           ...         ...    ...\n",
      "208  DDI-DrugBank.d297.s5         such           132         135  train\n",
      "209  DDI-DrugBank.d297.s5          use           137         139  train\n",
      "210  DDI-DrugBank.d297.s5           is           141         142  train\n",
      "211  DDI-DrugBank.d297.s5          not           144         146  train\n",
      "212  DDI-DrugBank.d297.s5  recommended           148         158  train\n",
      "\n",
      "[212 rows x 5 columns]\n",
      "---\n",
      "Printing Ner_df\n",
      "             sentence_id ner_id char_start_id char_end_id\n",
      "1   DDI-DrugBank.d519.s0  brand            45          52\n",
      "2   DDI-DrugBank.d519.s1  brand            66          73\n",
      "3   DDI-DrugBank.d519.s2  brand             0           7\n",
      "4   DDI-DrugBank.d519.s3  brand            29          36\n",
      "5   DDI-DrugBank.d519.s3   drug            83          94\n",
      "6   DDI-DrugBank.d519.s4  brand            76          83\n",
      "7   DDI-DrugBank.d297.s0  brand            61          67\n",
      "8   DDI-DrugBank.d297.s1   drug            50          52\n",
      "9   DDI-DrugBank.d297.s1  group            55          60\n",
      "10  DDI-DrugBank.d297.s1  group            63          77\n",
      "11  DDI-DrugBank.d297.s1  group            84         102\n",
      "12  DDI-DrugBank.d297.s1   drug           122         130\n",
      "13  DDI-DrugBank.d297.s2  brand           115         121\n",
      "14  DDI-DrugBank.d297.s2   drug           124         126\n",
      "15  DDI-DrugBank.d297.s2  group           129         134\n",
      "16  DDI-DrugBank.d297.s2  group           137         151\n",
      "17  DDI-DrugBank.d297.s2  group           154         172\n",
      "18  DDI-DrugBank.d297.s2   drug           175         186\n",
      "19  DDI-DrugBank.d297.s2   drug           189         199\n",
      "20  DDI-DrugBank.d297.s2   drug           202         205\n",
      "21  DDI-DrugBank.d297.s2   drug           208         225\n",
      "22  DDI-DrugBank.d297.s2   drug           228         238\n",
      "23  DDI-DrugBank.d297.s2   drug           241         253\n",
      "24  DDI-DrugBank.d297.s2   drug           260         267\n",
      "25  DDI-DrugBank.d297.s3  group            31          44\n",
      "26  DDI-DrugBank.d297.s3  brand            51          57\n",
      "27  DDI-DrugBank.d297.s3  group           179         193\n",
      "28  DDI-DrugBank.d297.s4  brand            24          30\n",
      "29  DDI-DrugBank.d297.s4  group            36          50\n",
      "30  DDI-DrugBank.d297.s5  brand            70          76\n",
      "31  DDI-DrugBank.d297.s5   drug           109         116\n",
      "Encoding labels into numeric values...\n",
      "              sentence_id  token_id char_start_id char_end_id  split\n",
      "1    DDI-DrugBank.d436.s0         7             0           1  train\n",
      "2    DDI-DrugBank.d436.s0        53             3           6  train\n",
      "3    DDI-DrugBank.d436.s0        90             8          18  train\n",
      "4    DDI-DrugBank.d436.s0       118            20          29  train\n",
      "5    DDI-DrugBank.d436.s0        59            31          34  train\n",
      "..                    ...       ...           ...         ...    ...\n",
      "208  DDI-DrugBank.d297.s5       116           132         135  train\n",
      "209  DDI-DrugBank.d297.s5       129           137         139  train\n",
      "210  DDI-DrugBank.d297.s5        75           141         142  train\n",
      "211  DDI-DrugBank.d297.s5        89           144         146  train\n",
      "212  DDI-DrugBank.d297.s5       105           148         158  train\n",
      "\n",
      "[212 rows x 5 columns]\n",
      "             sentence_id  ner_id char_start_id char_end_id\n",
      "1   DDI-DrugBank.d519.s0       0            45          52\n",
      "2   DDI-DrugBank.d519.s1       0            66          73\n",
      "3   DDI-DrugBank.d519.s2       0             0           7\n",
      "4   DDI-DrugBank.d519.s3       0            29          36\n",
      "5   DDI-DrugBank.d519.s3       1            83          94\n",
      "6   DDI-DrugBank.d519.s4       0            76          83\n",
      "7   DDI-DrugBank.d297.s0       0            61          67\n",
      "8   DDI-DrugBank.d297.s1       1            50          52\n",
      "9   DDI-DrugBank.d297.s1       2            55          60\n",
      "10  DDI-DrugBank.d297.s1       2            63          77\n",
      "11  DDI-DrugBank.d297.s1       2            84         102\n",
      "12  DDI-DrugBank.d297.s1       1           122         130\n",
      "13  DDI-DrugBank.d297.s2       0           115         121\n",
      "14  DDI-DrugBank.d297.s2       1           124         126\n",
      "15  DDI-DrugBank.d297.s2       2           129         134\n",
      "16  DDI-DrugBank.d297.s2       2           137         151\n",
      "17  DDI-DrugBank.d297.s2       2           154         172\n",
      "18  DDI-DrugBank.d297.s2       1           175         186\n",
      "19  DDI-DrugBank.d297.s2       1           189         199\n",
      "20  DDI-DrugBank.d297.s2       1           202         205\n",
      "21  DDI-DrugBank.d297.s2       1           208         225\n",
      "22  DDI-DrugBank.d297.s2       1           228         238\n",
      "23  DDI-DrugBank.d297.s2       1           241         253\n",
      "24  DDI-DrugBank.d297.s2       1           260         267\n",
      "25  DDI-DrugBank.d297.s3       2            31          44\n",
      "26  DDI-DrugBank.d297.s3       0            51          57\n",
      "27  DDI-DrugBank.d297.s3       2           179         193\n",
      "28  DDI-DrugBank.d297.s4       0            24          30\n",
      "29  DDI-DrugBank.d297.s4       2            36          50\n",
      "30  DDI-DrugBank.d297.s5       0            70          76\n",
      "31  DDI-DrugBank.d297.s5       1           109         116\n",
      "{0: 'Concurrent', 1: 'Cytochrome', 2: 'Day', 3: 'Formal', 4: 'Laboratory', 5: 'MTX', 6: 'NSAIDs', 7: 'No', 8: 'ORENCIA', 9: 'PSA', 10: 'Periodic', 11: 'Plenaxis', 12: 'Population', 13: 'RA', 14: 'Response', 15: 'Serum', 16: 'TNF', 17: 'Tests', 18: 'The', 19: 'There', 20: 'a', 21: 'abatacept', 22: 'additional', 23: 'administered', 24: 'administration', 25: 'agents', 26: 'alone', 27: 'also', 28: 'an', 29: 'anakinra', 30: 'analyses', 31: 'and', 32: 'antagonist', 33: 'antagonists', 34: 'assess', 35: 'associated', 36: 'azathioprine', 37: 'be', 38: 'been', 39: 'before', 40: 'blocking', 41: 'bound', 42: 'by', 43: 'chloroquine', 44: 'clearance', 45: 'clinical', 46: 'concentrations', 47: 'concomitant', 48: 'concurrently', 49: 'conducted', 50: 'considered', 51: 'corticosteroids', 52: 'did', 53: 'drug', 54: 'during', 55: 'efficacy', 56: 'every', 57: 'experience', 58: 'following', 59: 'food', 60: 'formal', 61: 'gold', 62: 'has', 63: 'have', 64: 'herb', 65: 'highly', 66: 'hydroxychloroquine', 67: 'in', 68: 'increased', 69: 'infections', 70: 'influence', 71: 'insufficient', 72: 'interaction', 73: 'interactions', 74: 'involved', 75: 'is', 76: 'just', 77: 'known', 78: 'leflunomide', 79: 'levels', 80: 'majority', 81: 'may', 82: 'measurement', 83: 'measuring', 84: 'medications', 85: 'metabolism', 86: 'monitored', 87: 'more', 88: 'no', 89: 'not', 90: 'nutritional', 91: 'obtained', 92: 'of', 93: 'on', 94: 'one', 95: 'or', 96: 'over', 97: 'patients', 98: 'performed', 99: 'periodically', 100: 'pharmacokinetic', 101: 'plasma', 102: 'prior', 103: 'proteins', 104: 'received', 105: 'recommended', 106: 'reported', 107: 'revealed', 108: 'risk', 109: 'safety', 110: 'serious', 111: 'serum', 112: 'should', 113: 'significant', 114: 'starting', 115: 'studies', 116: 'such', 117: 'sulfasalazine', 118: 'supplement', 119: 'testosterone', 120: 'that', 121: 'the', 122: 'therapy', 123: 'thereafter', 124: 'therefore', 125: 'to', 126: 'total', 127: 'transaminase', 128: 'treatment', 129: 'use', 130: 'weeks', 131: 'were', 132: 'with', 133: 'yet'}\n",
      "{0: 'brand', 1: 'drug', 2: 'group'}\n"
     ]
    }
   ],
   "source": [
    "dataset = DataLoader(data_dir=\"DDICorpus\", device=device)"
   ]
  },
  {
   "cell_type": "code",
   "execution_count": 4,
   "metadata": {
    "scrolled": false
   },
   "outputs": [
    {
     "data": {
      "text/html": [
       "<div>\n",
       "<style scoped>\n",
       "    .dataframe tbody tr th:only-of-type {\n",
       "        vertical-align: middle;\n",
       "    }\n",
       "\n",
       "    .dataframe tbody tr th {\n",
       "        vertical-align: top;\n",
       "    }\n",
       "\n",
       "    .dataframe thead th {\n",
       "        text-align: right;\n",
       "    }\n",
       "</style>\n",
       "<table border=\"1\" class=\"dataframe\">\n",
       "  <thead>\n",
       "    <tr style=\"text-align: right;\">\n",
       "      <th></th>\n",
       "      <th>sentence_id</th>\n",
       "      <th>token_id</th>\n",
       "      <th>char_start_id</th>\n",
       "      <th>char_end_id</th>\n",
       "      <th>split</th>\n",
       "    </tr>\n",
       "  </thead>\n",
       "  <tbody>\n",
       "    <tr>\n",
       "      <th>1</th>\n",
       "      <td>DDI-DrugBank.d436.s0</td>\n",
       "      <td>7</td>\n",
       "      <td>0</td>\n",
       "      <td>1</td>\n",
       "      <td>train</td>\n",
       "    </tr>\n",
       "    <tr>\n",
       "      <th>2</th>\n",
       "      <td>DDI-DrugBank.d436.s0</td>\n",
       "      <td>53</td>\n",
       "      <td>3</td>\n",
       "      <td>6</td>\n",
       "      <td>train</td>\n",
       "    </tr>\n",
       "    <tr>\n",
       "      <th>3</th>\n",
       "      <td>DDI-DrugBank.d436.s0</td>\n",
       "      <td>90</td>\n",
       "      <td>8</td>\n",
       "      <td>18</td>\n",
       "      <td>train</td>\n",
       "    </tr>\n",
       "    <tr>\n",
       "      <th>4</th>\n",
       "      <td>DDI-DrugBank.d436.s0</td>\n",
       "      <td>118</td>\n",
       "      <td>20</td>\n",
       "      <td>29</td>\n",
       "      <td>train</td>\n",
       "    </tr>\n",
       "    <tr>\n",
       "      <th>5</th>\n",
       "      <td>DDI-DrugBank.d436.s0</td>\n",
       "      <td>59</td>\n",
       "      <td>31</td>\n",
       "      <td>34</td>\n",
       "      <td>train</td>\n",
       "    </tr>\n",
       "  </tbody>\n",
       "</table>\n",
       "</div>"
      ],
      "text/plain": [
       "            sentence_id  token_id char_start_id char_end_id  split\n",
       "1  DDI-DrugBank.d436.s0         7             0           1  train\n",
       "2  DDI-DrugBank.d436.s0        53             3           6  train\n",
       "3  DDI-DrugBank.d436.s0        90             8          18  train\n",
       "4  DDI-DrugBank.d436.s0       118            20          29  train\n",
       "5  DDI-DrugBank.d436.s0        59            31          34  train"
      ]
     },
     "execution_count": 4,
     "metadata": {},
     "output_type": "execute_result"
    }
   ],
   "source": [
    "dataset.data_df.head()"
   ]
  },
  {
   "cell_type": "code",
   "execution_count": 5,
   "metadata": {
    "scrolled": true
   },
   "outputs": [
    {
     "data": {
      "text/html": [
       "<div>\n",
       "<style scoped>\n",
       "    .dataframe tbody tr th:only-of-type {\n",
       "        vertical-align: middle;\n",
       "    }\n",
       "\n",
       "    .dataframe tbody tr th {\n",
       "        vertical-align: top;\n",
       "    }\n",
       "\n",
       "    .dataframe thead th {\n",
       "        text-align: right;\n",
       "    }\n",
       "</style>\n",
       "<table border=\"1\" class=\"dataframe\">\n",
       "  <thead>\n",
       "    <tr style=\"text-align: right;\">\n",
       "      <th></th>\n",
       "      <th>sentence_id</th>\n",
       "      <th>ner_id</th>\n",
       "      <th>char_start_id</th>\n",
       "      <th>char_end_id</th>\n",
       "    </tr>\n",
       "  </thead>\n",
       "  <tbody>\n",
       "    <tr>\n",
       "      <th>1</th>\n",
       "      <td>DDI-DrugBank.d519.s0</td>\n",
       "      <td>0</td>\n",
       "      <td>45</td>\n",
       "      <td>52</td>\n",
       "    </tr>\n",
       "    <tr>\n",
       "      <th>2</th>\n",
       "      <td>DDI-DrugBank.d519.s1</td>\n",
       "      <td>0</td>\n",
       "      <td>66</td>\n",
       "      <td>73</td>\n",
       "    </tr>\n",
       "    <tr>\n",
       "      <th>3</th>\n",
       "      <td>DDI-DrugBank.d519.s2</td>\n",
       "      <td>0</td>\n",
       "      <td>0</td>\n",
       "      <td>7</td>\n",
       "    </tr>\n",
       "    <tr>\n",
       "      <th>4</th>\n",
       "      <td>DDI-DrugBank.d519.s3</td>\n",
       "      <td>0</td>\n",
       "      <td>29</td>\n",
       "      <td>36</td>\n",
       "    </tr>\n",
       "    <tr>\n",
       "      <th>5</th>\n",
       "      <td>DDI-DrugBank.d519.s3</td>\n",
       "      <td>1</td>\n",
       "      <td>83</td>\n",
       "      <td>94</td>\n",
       "    </tr>\n",
       "  </tbody>\n",
       "</table>\n",
       "</div>"
      ],
      "text/plain": [
       "            sentence_id  ner_id char_start_id char_end_id\n",
       "1  DDI-DrugBank.d519.s0       0            45          52\n",
       "2  DDI-DrugBank.d519.s1       0            66          73\n",
       "3  DDI-DrugBank.d519.s2       0             0           7\n",
       "4  DDI-DrugBank.d519.s3       0            29          36\n",
       "5  DDI-DrugBank.d519.s3       1            83          94"
      ]
     },
     "execution_count": 5,
     "metadata": {},
     "output_type": "execute_result"
    }
   ],
   "source": [
    "dataset.ner_df.head()"
   ]
  },
  {
   "cell_type": "code",
   "execution_count": 6,
   "metadata": {
    "scrolled": true
   },
   "outputs": [
    {
     "data": {
      "text/plain": [
       "['Concurrent',\n",
       " 'Cytochrome',\n",
       " 'Day',\n",
       " 'Formal',\n",
       " 'Laboratory',\n",
       " 'MTX',\n",
       " 'NSAIDs',\n",
       " 'No',\n",
       " 'ORENCIA',\n",
       " 'PSA',\n",
       " 'Periodic',\n",
       " 'Plenaxis',\n",
       " 'Population',\n",
       " 'RA',\n",
       " 'Response']"
      ]
     },
     "execution_count": 6,
     "metadata": {},
     "output_type": "execute_result"
    }
   ],
   "source": [
    "dataset.vocab[:15]"
   ]
  },
  {
   "cell_type": "code",
   "execution_count": 7,
   "metadata": {
    "scrolled": true
   },
   "outputs": [
    {
     "data": {
      "text/plain": [
       "{0: 'brand', 1: 'drug', 2: 'group'}"
      ]
     },
     "execution_count": 7,
     "metadata": {},
     "output_type": "execute_result"
    }
   ],
   "source": [
    "dataset.id2ner"
   ]
  },
  {
   "cell_type": "code",
   "execution_count": 8,
   "metadata": {},
   "outputs": [
    {
     "data": {
      "text/plain": [
       "33"
      ]
     },
     "execution_count": 8,
     "metadata": {},
     "output_type": "execute_result"
    }
   ],
   "source": [
    "dataset.max_sample_length"
   ]
  },
  {
   "cell_type": "code",
   "execution_count": 9,
   "metadata": {
    "scrolled": true
   },
   "outputs": [
    {
     "name": "stderr",
     "output_type": "stream",
     "text": [
      "/home/gusflesjo@GU.GU.SE/lt2316-h20-aa/aa/data_loading.py:47: SettingWithCopyWarning: \n",
      "A value is trying to be set on a copy of a slice from a DataFrame.\n",
      "Try using .loc[row_indexer,col_indexer] = value instead\n",
      "\n",
      "See the caveats in the documentation: http://pandas.pydata.org/pandas-docs/stable/user_guide/indexing.html#returning-a-view-versus-a-copy\n",
      "  sample_tokens[\"token\"] = sample_tokens.loc[:,\"token_id\"].apply(decode_word)\n"
     ]
    },
    {
     "data": {
      "text/plain": [
       "'Population pharmacokinetic analyses revealed that DRUG:MTX NSAIDs corticosteroids GROUP:and TNF GROUP:blocking GROUP:agents GROUP:did not influence abatacept DRUG:clearance'"
      ]
     },
     "execution_count": 9,
     "metadata": {},
     "output_type": "execute_result"
    }
   ],
   "source": [
    "dataset.get_random_sample()"
   ]
  },
  {
   "cell_type": "markdown",
   "metadata": {},
   "source": [
    "### Data Exploration"
   ]
  },
  {
   "cell_type": "code",
   "execution_count": 10,
   "metadata": {},
   "outputs": [
    {
     "data": {
      "image/png": "[encoded data removed]",
      "text/plain": [
       "<Figure size 432x360 with 1 Axes>"
      ]
     },
     "metadata": {
      "needs_background": "light"
     },
     "output_type": "display_data"
    }
   ],
   "source": [
    "dataset.plot_split_ner_distribution()"
   ]
  },
  {
   "cell_type": "markdown",
   "metadata": {},
   "source": [
    "### Labels"
   ]
  },
  {
   "cell_type": "code",
   "execution_count": 11,
   "metadata": {
    "scrolled": true
   },
   "outputs": [],
   "source": [
    "train_y, val_y = check_output(dataset.get_y()) #, test_y"
   ]
  },
  {
   "cell_type": "markdown",
   "metadata": {},
   "source": [
    "## Extracting Features"
   ]
  },
  {
   "cell_type": "code",
   "execution_count": 12,
   "metadata": {},
   "outputs": [
    {
     "name": "stdout",
     "output_type": "stream",
     "text": [
      "[[3, 5, 1, 6], [72, 7, 0, 11], [63, 13, 0, 4], [38, 16, 0, 4], [0, 0, 0, 0], [0, 0, 0, 0], [0, 0, 0, 0], [0, 0, 0, 0], [0, 0, 0, 0], [0, 0, 0, 0], [0, 0, 0, 0], [0, 0, 0, 0], [0, 0, 0, 0], [0, 0, 0, 0], [0, 0, 0, 0], [0, 0, 0, 0], [0, 0, 0, 0], [0, 0, 0, 0], [0, 0, 0, 0], [0, 0, 0, 0], [0, 0, 0, 0], [0, 0, 0, 0], [0, 0, 0, 0], [0, 0, 0, 0], [0, 0, 0, 0], [0, 0, 0, 0], [0, 0, 0, 0], [0, 0, 0, 0], [0, 0, 0, 0], [0, 0, 0, 0], [0, 0, 0, 0], [0, 0, 0, 0], [0, 0, 0, 0]]\n",
      "[[21, 7, 0, 9], [70, 7, 0, 9], [0, 0, 0, 0], [0, 0, 0, 0], [0, 0, 0, 0], [0, 0, 0, 0], [0, 0, 0, 0], [0, 0, 0, 0], [0, 0, 0, 0], [0, 0, 0, 0], [0, 0, 0, 0], [0, 0, 0, 0], [0, 0, 0, 0], [0, 0, 0, 0], [0, 0, 0, 0], [0, 0, 0, 0], [0, 0, 0, 0], [0, 0, 0, 0], [0, 0, 0, 0], [0, 0, 0, 0], [0, 0, 0, 0], [0, 0, 0, 0], [0, 0, 0, 0], [0, 0, 0, 0], [0, 0, 0, 0], [0, 0, 0, 0], [0, 0, 0, 0], [0, 0, 0, 0], [0, 0, 0, 0], [0, 0, 0, 0], [0, 0, 0, 0], [0, 0, 0, 0], [0, 0, 0, 0]]\n",
      "[[16, 7, 1, 3], [132, 4, 0, 4], [51, 9, 0, 15], [78, 7, 0, 11], [47, 7, 0, 11], [92, 4, 0, 2], [67, 4, 0, 2], [0, 0, 0, 0], [0, 0, 0, 0], [0, 0, 0, 0], [0, 0, 0, 0], [0, 0, 0, 0], [0, 0, 0, 0], [0, 0, 0, 0], [0, 0, 0, 0], [0, 0, 0, 0], [0, 0, 0, 0], [0, 0, 0, 0], [0, 0, 0, 0], [0, 0, 0, 0], [0, 0, 0, 0], [0, 0, 0, 0], [0, 0, 0, 0], [0, 0, 0, 0], [0, 0, 0, 0], [0, 0, 0, 0], [0, 0, 0, 0], [0, 0, 0, 0], [0, 0, 0, 0], [0, 0, 0, 0], [0, 0, 0, 0], [0, 0, 0, 0], [0, 0, 0, 0]]\n",
      "[[129, 7, 0, 3], [20, 2, 0, 1], [22, 5, 0, 10], [92, 4, 0, 2], [0, 0, 0, 0], [0, 0, 0, 0], [0, 0, 0, 0], [0, 0, 0, 0], [0, 0, 0, 0], [0, 0, 0, 0], [0, 0, 0, 0], [0, 0, 0, 0], [0, 0, 0, 0], [0, 0, 0, 0], [0, 0, 0, 0], [0, 0, 0, 0], [0, 0, 0, 0], [0, 0, 0, 0], [0, 0, 0, 0], [0, 0, 0, 0], [0, 0, 0, 0], [0, 0, 0, 0], [0, 0, 0, 0], [0, 0, 0, 0], [0, 0, 0, 0], [0, 0, 0, 0], [0, 0, 0, 0], [0, 0, 0, 0], [0, 0, 0, 0], [0, 0, 0, 0], [0, 0, 0, 0], [0, 0, 0, 0], [0, 0, 0, 0]]\n",
      "[[31, 0, 0, 3], [33, 9, 0, 11], [0, 7, 1, 10], [89, 10, 0, 3], [0, 0, 0, 0], [0, 0, 0, 0], [0, 0, 0, 0], [0, 0, 0, 0], [0, 0, 0, 0], [0, 0, 0, 0], [0, 0, 0, 0], [0, 0, 0, 0], [0, 0, 0, 0], [0, 0, 0, 0], [0, 0, 0, 0], [0, 0, 0, 0], [0, 0, 0, 0], [0, 0, 0, 0], [0, 0, 0, 0], [0, 0, 0, 0], [0, 0, 0, 0], [0, 0, 0, 0], [0, 0, 0, 0], [0, 0, 0, 0], [0, 0, 0, 0], [0, 0, 0, 0], [0, 0, 0, 0], [0, 0, 0, 0], [0, 0, 0, 0], [0, 0, 0, 0], [0, 0, 0, 0], [0, 0, 0, 0], [0, 0, 0, 0]]\n",
      "[[89, 10, 0, 3], [124, 10, 0, 9], [48, 10, 0, 12], [75, 17, 0, 2], [31, 0, 0, 3], [0, 0, 0, 0], [0, 0, 0, 0], [0, 0, 0, 0], [0, 0, 0, 0], [0, 0, 0, 0], [0, 0, 0, 0], [0, 0, 0, 0], [0, 0, 0, 0], [0, 0, 0, 0], [0, 0, 0, 0], [0, 0, 0, 0], [0, 0, 0, 0], [0, 0, 0, 0], [0, 0, 0, 0], [0, 0, 0, 0], [0, 0, 0, 0], [0, 0, 0, 0], [0, 0, 0, 0], [0, 0, 0, 0], [0, 0, 0, 0], [0, 0, 0, 0], [0, 0, 0, 0], [0, 0, 0, 0], [0, 0, 0, 0], [0, 0, 0, 0], [0, 0, 0, 0], [0, 0, 0, 0], [0, 0, 0, 0]]\n",
      "[[63, 13, 0, 4], [118, 7, 0, 10], [73, 9, 0, 12], [0, 0, 0, 0], [0, 0, 0, 0], [0, 0, 0, 0], [0, 0, 0, 0], [0, 0, 0, 0], [0, 0, 0, 0], [0, 0, 0, 0], [0, 0, 0, 0], [0, 0, 0, 0], [0, 0, 0, 0], [0, 0, 0, 0], [0, 0, 0, 0], [0, 0, 0, 0], [0, 0, 0, 0], [0, 0, 0, 0], [0, 0, 0, 0], [0, 0, 0, 0], [0, 0, 0, 0], [0, 0, 0, 0], [0, 0, 0, 0], [0, 0, 0, 0], [0, 0, 0, 0], [0, 0, 0, 0], [0, 0, 0, 0], [0, 0, 0, 0], [0, 0, 0, 0], [0, 0, 0, 0], [0, 0, 0, 0], [0, 0, 0, 0], [0, 0, 0, 0]]\n",
      "[[132, 4, 0, 4], [0, 0, 0, 0], [0, 0, 0, 0], [0, 0, 0, 0], [0, 0, 0, 0], [0, 0, 0, 0], [0, 0, 0, 0], [0, 0, 0, 0], [0, 0, 0, 0], [0, 0, 0, 0], [0, 0, 0, 0], [0, 0, 0, 0], [0, 0, 0, 0], [0, 0, 0, 0], [0, 0, 0, 0], [0, 0, 0, 0], [0, 0, 0, 0], [0, 0, 0, 0], [0, 0, 0, 0], [0, 0, 0, 0], [0, 0, 0, 0], [0, 0, 0, 0], [0, 0, 0, 0], [0, 0, 0, 0], [0, 0, 0, 0], [0, 0, 0, 0], [0, 0, 0, 0], [0, 0, 0, 0], [0, 0, 0, 0], [0, 0, 0, 0], [0, 0, 0, 0], [0, 0, 0, 0], [0, 0, 0, 0]]\n",
      "[[11, 7, 1, 8], [85, 7, 0, 10], [1, 7, 1, 10], [0, 0, 0, 0], [0, 0, 0, 0], [0, 0, 0, 0], [0, 0, 0, 0], [0, 0, 0, 0], [0, 0, 0, 0], [0, 0, 0, 0], [0, 0, 0, 0], [0, 0, 0, 0], [0, 0, 0, 0], [0, 0, 0, 0], [0, 0, 0, 0], [0, 0, 0, 0], [0, 0, 0, 0], [0, 0, 0, 0], [0, 0, 0, 0], [0, 0, 0, 0], [0, 0, 0, 0], [0, 0, 0, 0], [0, 0, 0, 0], [0, 0, 0, 0], [0, 0, 0, 0], [0, 0, 0, 0], [0, 0, 0, 0], [0, 0, 0, 0], [0, 0, 0, 0], [0, 0, 0, 0], [0, 0, 0, 0], [0, 0, 0, 0], [0, 0, 0, 0]]\n",
      "[[101, 7, 0, 6], [0, 0, 0, 0], [0, 0, 0, 0], [0, 0, 0, 0], [0, 0, 0, 0], [0, 0, 0, 0], [0, 0, 0, 0], [0, 0, 0, 0], [0, 0, 0, 0], [0, 0, 0, 0], [0, 0, 0, 0], [0, 0, 0, 0], [0, 0, 0, 0], [0, 0, 0, 0], [0, 0, 0, 0], [0, 0, 0, 0], [0, 0, 0, 0], [0, 0, 0, 0], [0, 0, 0, 0], [0, 0, 0, 0], [0, 0, 0, 0], [0, 0, 0, 0], [0, 0, 0, 0], [0, 0, 0, 0], [0, 0, 0, 0], [0, 0, 0, 0], [0, 0, 0, 0], [0, 0, 0, 0], [0, 0, 0, 0], [0, 0, 0, 0], [0, 0, 0, 0], [0, 0, 0, 0], [0, 0, 0, 0]]\n",
      "[[125, 12, 0, 2], [125, 12, 0, 2], [76, 10, 0, 4], [0, 0, 0, 0], [0, 0, 0, 0], [0, 0, 0, 0], [0, 0, 0, 0], [0, 0, 0, 0], [0, 0, 0, 0], [0, 0, 0, 0], [0, 0, 0, 0], [0, 0, 0, 0], [0, 0, 0, 0], [0, 0, 0, 0], [0, 0, 0, 0], [0, 0, 0, 0], [0, 0, 0, 0], [0, 0, 0, 0], [0, 0, 0, 0], [0, 0, 0, 0], [0, 0, 0, 0], [0, 0, 0, 0], [0, 0, 0, 0], [0, 0, 0, 0], [0, 0, 0, 0], [0, 0, 0, 0], [0, 0, 0, 0], [0, 0, 0, 0], [0, 0, 0, 0], [0, 0, 0, 0], [0, 0, 0, 0], [0, 0, 0, 0], [0, 0, 0, 0]]\n",
      "[[91, 16, 0, 8], [99, 10, 0, 12], [37, 13, 0, 2], [128, 7, 0, 9], [0, 0, 0, 0], [0, 0, 0, 0], [0, 0, 0, 0], [0, 0, 0, 0], [0, 0, 0, 0], [0, 0, 0, 0], [0, 0, 0, 0], [0, 0, 0, 0], [0, 0, 0, 0], [0, 0, 0, 0], [0, 0, 0, 0], [0, 0, 0, 0], [0, 0, 0, 0], [0, 0, 0, 0], [0, 0, 0, 0], [0, 0, 0, 0], [0, 0, 0, 0], [0, 0, 0, 0], [0, 0, 0, 0], [0, 0, 0, 0], [0, 0, 0, 0], [0, 0, 0, 0], [0, 0, 0, 0], [0, 0, 0, 0], [0, 0, 0, 0], [0, 0, 0, 0], [0, 0, 0, 0], [0, 0, 0, 0], [0, 0, 0, 0]]\n",
      "[[27, 10, 0, 4], [0, 0, 0, 0], [0, 0, 0, 0], [0, 0, 0, 0], [0, 0, 0, 0], [0, 0, 0, 0], [0, 0, 0, 0], [0, 0, 0, 0], [0, 0, 0, 0], [0, 0, 0, 0], [0, 0, 0, 0], [0, 0, 0, 0], [0, 0, 0, 0], [0, 0, 0, 0], [0, 0, 0, 0], [0, 0, 0, 0], [0, 0, 0, 0], [0, 0, 0, 0], [0, 0, 0, 0], [0, 0, 0, 0], [0, 0, 0, 0], [0, 0, 0, 0], [0, 0, 0, 0], [0, 0, 0, 0], [0, 0, 0, 0], [0, 0, 0, 0], [0, 0, 0, 0], [0, 0, 0, 0], [0, 0, 0, 0], [0, 0, 0, 0], [0, 0, 0, 0], [0, 0, 0, 0], [0, 0, 0, 0]]\n",
      "[[49, 16, 0, 9], [115, 9, 0, 7], [132, 4, 0, 4], [89, 10, 0, 3], [53, 7, 0, 4], [8, 7, 1, 7], [0, 0, 0, 0], [0, 0, 0, 0], [0, 0, 0, 0], [0, 0, 0, 0], [0, 0, 0, 0], [0, 0, 0, 0], [0, 0, 0, 0], [0, 0, 0, 0], [0, 0, 0, 0], [0, 0, 0, 0], [0, 0, 0, 0], [0, 0, 0, 0], [0, 0, 0, 0], [0, 0, 0, 0], [0, 0, 0, 0], [0, 0, 0, 0], [0, 0, 0, 0], [0, 0, 0, 0], [0, 0, 0, 0], [0, 0, 0, 0], [0, 0, 0, 0], [0, 0, 0, 0], [0, 0, 0, 0], [0, 0, 0, 0], [0, 0, 0, 0], [0, 0, 0, 0], [0, 0, 0, 0]]\n",
      "[[16, 7, 1, 3], [120, 4, 0, 4], [44, 7, 0, 9], [40, 15, 0, 8], [107, 14, 0, 8], [51, 9, 0, 15], [5, 7, 1, 3], [31, 0, 0, 3], [89, 10, 0, 3], [12, 7, 1, 10], [30, 9, 0, 8], [100, 5, 0, 15], [6, 7, 1, 6], [52, 14, 0, 3], [25, 9, 0, 6], [0, 0, 0, 0], [0, 0, 0, 0], [0, 0, 0, 0], [0, 0, 0, 0], [0, 0, 0, 0], [0, 0, 0, 0], [0, 0, 0, 0], [0, 0, 0, 0], [0, 0, 0, 0], [0, 0, 0, 0], [0, 0, 0, 0], [0, 0, 0, 0], [0, 0, 0, 0], [0, 0, 0, 0], [0, 0, 0, 0], [0, 0, 0, 0], [0, 0, 0, 0], [0, 0, 0, 0]]\n",
      "[[115, 9, 0, 7], [97, 9, 0, 8], [117, 7, 0, 13], [6, 7, 1, 6], [66, 7, 0, 18], [58, 15, 0, 9], [92, 4, 0, 2], [31, 0, 0, 3], [87, 11, 0, 4], [80, 7, 0, 8], [29, 7, 0, 8], [5, 7, 1, 3], [8, 7, 1, 7], [84, 9, 0, 11], [43, 7, 0, 11], [45, 5, 0, 8], [40, 15, 0, 8], [18, 2, 1, 3], [36, 7, 0, 12], [13, 8, 1, 2], [104, 16, 0, 8], [121, 2, 0, 3], [25, 9, 0, 6], [61, 7, 0, 4], [94, 1, 0, 3], [95, 0, 0, 2], [0, 0, 0, 0], [0, 0, 0, 0], [0, 0, 0, 0], [0, 0, 0, 0], [0, 0, 0, 0], [0, 0, 0, 0], [0, 0, 0, 0]]\n",
      "[[96, 4, 0, 4], [108, 7, 0, 4], [16, 7, 1, 3], [32, 7, 0, 10], [121, 2, 0, 3], [69, 9, 0, 10], [92, 4, 0, 2], [55, 7, 0, 8], [38, 16, 0, 4], [62, 17, 0, 3], [110, 5, 0, 7], [132, 4, 0, 4], [35, 16, 0, 10], [132, 4, 0, 4], [16, 7, 1, 3], [31, 0, 0, 3], [113, 5, 0, 11], [26, 10, 0, 5], [33, 9, 0, 11], [88, 2, 0, 2], [92, 4, 0, 2], [8, 7, 1, 7], [28, 2, 0, 2], [68, 16, 0, 9], [24, 7, 0, 14], [0, 7, 1, 10], [0, 0, 0, 0], [0, 0, 0, 0], [0, 0, 0, 0], [0, 0, 0, 0], [0, 0, 0, 0], [0, 0, 0, 0], [0, 0, 0, 0]]\n",
      "[[75, 17, 0, 2], [16, 7, 1, 3], [132, 4, 0, 4], [8, 7, 1, 7], [105, 16, 0, 11], [122, 7, 0, 7], [0, 0, 0, 0], [0, 0, 0, 0], [0, 0, 0, 0], [0, 0, 0, 0], [0, 0, 0, 0], [0, 0, 0, 0], [0, 0, 0, 0], [0, 0, 0, 0], [0, 0, 0, 0], [0, 0, 0, 0], [0, 0, 0, 0], [0, 0, 0, 0], [0, 0, 0, 0], [0, 0, 0, 0], [0, 0, 0, 0], [0, 0, 0, 0], [0, 0, 0, 0], [0, 0, 0, 0], [0, 0, 0, 0], [0, 0, 0, 0], [0, 0, 0, 0], [0, 0, 0, 0], [0, 0, 0, 0], [0, 0, 0, 0], [0, 0, 0, 0], [0, 0, 0, 0], [0, 0, 0, 0]]\n",
      "[[129, 7, 0, 3], [109, 7, 0, 6], [105, 16, 0, 11], [125, 12, 0, 2], [19, 3, 1, 5], [75, 17, 0, 2], [57, 7, 0, 10], [116, 5, 0, 4], [23, 16, 0, 12], [8, 7, 1, 7], [55, 7, 0, 8], [132, 4, 0, 4], [34, 7, 0, 6], [121, 2, 0, 3], [92, 4, 0, 2], [29, 7, 0, 8], [31, 0, 0, 3], [71, 7, 0, 12], [0, 0, 0, 0], [0, 0, 0, 0], [0, 0, 0, 0], [0, 0, 0, 0], [0, 0, 0, 0], [0, 0, 0, 0], [0, 0, 0, 0], [0, 0, 0, 0], [0, 0, 0, 0], [0, 0, 0, 0], [0, 0, 0, 0], [0, 0, 0, 0], [0, 0, 0, 0], [0, 0, 0, 0], [0, 0, 0, 0]]\n",
      "[[53, 7, 0, 4], [38, 16, 0, 4], [59, 7, 0, 4], [90, 5, 0, 11], [95, 0, 0, 2], [7, 2, 1, 2], [106, 14, 0, 8], [133, 10, 0, 3], [64, 7, 0, 4], [0, 0, 0, 0], [0, 0, 0, 0], [0, 0, 0, 0], [0, 0, 0, 0], [0, 0, 0, 0], [0, 0, 0, 0], [0, 0, 0, 0], [0, 0, 0, 0], [0, 0, 0, 0], [0, 0, 0, 0], [0, 0, 0, 0], [0, 0, 0, 0], [0, 0, 0, 0], [0, 0, 0, 0], [0, 0, 0, 0], [0, 0, 0, 0], [0, 0, 0, 0], [0, 0, 0, 0], [0, 0, 0, 0], [0, 0, 0, 0], [0, 0, 0, 0], [0, 0, 0, 0], [0, 0, 0, 0], [0, 0, 0, 0]]\n",
      "[[60, 5, 0, 6], [72, 7, 0, 11], [7, 2, 1, 2], [131, 14, 0, 4], [11, 7, 1, 8], [98, 16, 0, 9], [115, 9, 0, 7], [0, 0, 0, 0], [0, 0, 0, 0], [0, 0, 0, 0], [0, 0, 0, 0], [0, 0, 0, 0], [0, 0, 0, 0], [0, 0, 0, 0], [0, 0, 0, 0], [0, 0, 0, 0], [0, 0, 0, 0], [0, 0, 0, 0], [0, 0, 0, 0], [0, 0, 0, 0], [0, 0, 0, 0], [0, 0, 0, 0], [0, 0, 0, 0], [0, 0, 0, 0], [0, 0, 0, 0], [0, 0, 0, 0], [0, 0, 0, 0], [0, 0, 0, 0], [0, 0, 0, 0], [0, 0, 0, 0], [0, 0, 0, 0], [0, 0, 0, 0], [0, 0, 0, 0]]\n",
      "[[121, 2, 0, 3], [37, 13, 0, 2], [125, 12, 0, 2], [74, 16, 0, 8], [92, 4, 0, 2], [67, 4, 0, 2], [75, 17, 0, 2], [77, 16, 0, 5], [89, 10, 0, 3], [0, 0, 0, 0], [0, 0, 0, 0], [0, 0, 0, 0], [0, 0, 0, 0], [0, 0, 0, 0], [0, 0, 0, 0], [0, 0, 0, 0], [0, 0, 0, 0], [0, 0, 0, 0], [0, 0, 0, 0], [0, 0, 0, 0], [0, 0, 0, 0], [0, 0, 0, 0], [0, 0, 0, 0], [0, 0, 0, 0], [0, 0, 0, 0], [0, 0, 0, 0], [0, 0, 0, 0], [0, 0, 0, 0], [0, 0, 0, 0], [0, 0, 0, 0], [0, 0, 0, 0], [0, 0, 0, 0], [0, 0, 0, 0]]\n",
      "[[41, 7, 0, 5], [125, 12, 0, 2], [103, 9, 0, 8], [125, 12, 0, 2], [11, 7, 1, 8], [65, 10, 0, 6], [75, 17, 0, 2], [0, 0, 0, 0], [0, 0, 0, 0], [0, 0, 0, 0], [0, 0, 0, 0], [0, 0, 0, 0], [0, 0, 0, 0], [0, 0, 0, 0], [0, 0, 0, 0], [0, 0, 0, 0], [0, 0, 0, 0], [0, 0, 0, 0], [0, 0, 0, 0], [0, 0, 0, 0], [0, 0, 0, 0], [0, 0, 0, 0], [0, 0, 0, 0], [0, 0, 0, 0], [0, 0, 0, 0], [0, 0, 0, 0], [0, 0, 0, 0], [0, 0, 0, 0], [0, 0, 0, 0], [0, 0, 0, 0], [0, 0, 0, 0], [0, 0, 0, 0], [0, 0, 0, 0]]\n",
      "[[56, 2, 0, 5], [42, 4, 0, 2], [46, 9, 0, 14], [86, 14, 0, 9], [14, 7, 1, 8], [111, 7, 0, 5], [123, 10, 0, 10], [24, 7, 0, 14], [4, 7, 1, 10], [37, 13, 0, 2], [17, 9, 1, 5], [102, 10, 0, 5], [11, 7, 1, 8], [2, 8, 1, 3], [126, 5, 0, 5], [130, 9, 0, 5], [93, 4, 0, 2], [83, 15, 0, 9], [119, 7, 0, 12], [112, 6, 0, 6], [31, 0, 0, 3], [0, 0, 0, 0], [0, 0, 0, 0], [0, 0, 0, 0], [0, 0, 0, 0], [0, 0, 0, 0], [0, 0, 0, 0], [0, 0, 0, 0], [0, 0, 0, 0], [0, 0, 0, 0], [0, 0, 0, 0], [0, 0, 0, 0], [0, 0, 0, 0]]\n",
      "[[31, 0, 0, 3], [112, 6, 0, 6], [39, 4, 0, 6], [11, 7, 1, 8], [79, 9, 0, 6], [128, 7, 0, 9], [15, 7, 1, 5], [54, 4, 0, 6], [127, 7, 0, 12], [132, 4, 0, 4], [114, 15, 0, 8], [0, 0, 0, 0], [0, 0, 0, 0], [0, 0, 0, 0], [0, 0, 0, 0], [0, 0, 0, 0], [0, 0, 0, 0], [0, 0, 0, 0], [0, 0, 0, 0], [0, 0, 0, 0], [0, 0, 0, 0], [0, 0, 0, 0], [0, 0, 0, 0], [0, 0, 0, 0], [0, 0, 0, 0], [0, 0, 0, 0], [0, 0, 0, 0], [0, 0, 0, 0], [0, 0, 0, 0], [0, 0, 0, 0], [0, 0, 0, 0], [0, 0, 0, 0], [0, 0, 0, 0]]\n",
      "[[82, 7, 0, 11], [111, 7, 0, 5], [79, 9, 0, 6], [10, 7, 1, 8], [37, 13, 0, 2], [81, 6, 0, 3], [9, 7, 1, 3], [92, 4, 0, 2], [50, 16, 0, 10], [0, 0, 0, 0], [0, 0, 0, 0], [0, 0, 0, 0], [0, 0, 0, 0], [0, 0, 0, 0], [0, 0, 0, 0], [0, 0, 0, 0], [0, 0, 0, 0], [0, 0, 0, 0], [0, 0, 0, 0], [0, 0, 0, 0], [0, 0, 0, 0], [0, 0, 0, 0], [0, 0, 0, 0], [0, 0, 0, 0], [0, 0, 0, 0], [0, 0, 0, 0], [0, 0, 0, 0], [0, 0, 0, 0], [0, 0, 0, 0], [0, 0, 0, 0], [0, 0, 0, 0], [0, 0, 0, 0], [0, 0, 0, 0]]\n"
     ]
    }
   ],
   "source": [
    "#print(extract_features(dataset.data_df, dataset.max_sample_length, dataset.id2word))\n",
    "\n",
    "\n",
    "\n",
    "train_X, val_X = check_output(extract_features(\n",
    "                                                        data=dataset.data_df,\n",
    "                                                        max_sample_length=dataset.max_sample_length,\n",
    "                                                        id2word = dataset.id2word,\n",
    "                                                        device = device\n",
    "                                                        )) #, test_X"
   ]
  },
  {
   "cell_type": "markdown",
   "metadata": {},
   "source": [
    "## Bonus Part: Explore Some more"
   ]
  },
  {
   "cell_type": "code",
   "execution_count": 13,
   "metadata": {},
   "outputs": [],
   "source": [
    "#uncomment the code below if you want to do bonus part"
   ]
  },
  {
   "cell_type": "code",
   "execution_count": 14,
   "metadata": {},
   "outputs": [],
   "source": [
    "#dataset.plot_ner_per_sample_distribution()"
   ]
  },
  {
   "cell_type": "code",
   "execution_count": 15,
   "metadata": {},
   "outputs": [],
   "source": [
    "#dataset.plot_sample_length_distribution()"
   ]
  },
  {
   "cell_type": "code",
   "execution_count": 16,
   "metadata": {},
   "outputs": [],
   "source": [
    "#dataset.plot_ner_cooccurence_venndiagram()"
   ]
  },
  {
   "cell_type": "code",
   "execution_count": null,
   "metadata": {},
   "outputs": [],
   "source": []
  },
  {
   "cell_type": "code",
   "execution_count": null,
   "metadata": {},
   "outputs": [],
   "source": []
  },
  {
   "cell_type": "code",
   "execution_count": null,
   "metadata": {},
   "outputs": [],
   "source": []
  },
  {
   "cell_type": "code",
   "execution_count": null,
   "metadata": {},
   "outputs": [],
   "source": []
  },
  {
   "cell_type": "code",
   "execution_count": null,
   "metadata": {},
   "outputs": [],
   "source": []
  },
  {
   "cell_type": "code",
   "execution_count": null,
   "metadata": {},
   "outputs": [],
   "source": []
  },
  {
   "cell_type": "code",
   "execution_count": null,
   "metadata": {},
   "outputs": [],
   "source": []
  }
 ],
 "metadata": {
  "kernelspec": {
   "display_name": "Python 3",
   "language": "python",
   "name": "python3"
  },
  "language_info": {
   "codemirror_mode": {
    "name": "ipython",
    "version": 3
   },
   "file_extension": ".py",
   "mimetype": "text/x-python",
   "name": "python",
   "nbconvert_exporter": "python",
   "pygments_lexer": "ipython3",
   "version": "3.7.4"
  }
 },
 "nbformat": 4,
 "nbformat_minor": 4
}
