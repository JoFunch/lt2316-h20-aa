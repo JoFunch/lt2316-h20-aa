{
 "cells": [
  {
   "cell_type": "markdown",
   "metadata": {},
   "source": [
    "# Assignment 1"
   ]
  },
  {
   "cell_type": "markdown",
   "metadata": {},
   "source": [
    "## Loading data"
   ]
  },
  {
   "cell_type": "code",
   "execution_count": 1,
   "metadata": {
    "scrolled": false,
    "tags": []
   },
   "outputs": [],
   "source": [
    "from aa import DataLoader\n",
    "from aa import extract_features\n",
    "from aa import check_output\n",
    "import torch\n",
    "import tensorflow as tf"
   ]
  },
  {
   "cell_type": "code",
   "execution_count": 2,
   "metadata": {},
   "outputs": [],
   "source": [
    "device = torch.device(\"cuda:0\" if torch.cuda.is_available() else \"cpu\")"
   ]
  },
  {
   "cell_type": "code",
   "execution_count": 3,
   "metadata": {
    "scrolled": true,
    "tags": []
   },
   "outputs": [
    {
     "output_type": "stream",
     "name": "stdout",
     "text": "Printing Data_df\n               sentence_id     token_id char_start_id char_end_id  split\n1     DDI-DrugBank.d436.s0           No             0           1  train\n2     DDI-DrugBank.d436.s0         drug             3           6  train\n3     DDI-DrugBank.d436.s0  nutritional             8          18  train\n4     DDI-DrugBank.d436.s0   supplement            20          29  train\n5     DDI-DrugBank.d436.s0         food            31          34  train\n..                     ...          ...           ...         ...    ...\n690  DDI-DrugBank.d536.s11  interaction            46          56  train\n691  DDI-DrugBank.d536.s11      between            58          64  train\n692  DDI-DrugBank.d536.s11     Acarbose            66          73  train\n693  DDI-DrugBank.d536.s11          and            75          77  train\n694  DDI-DrugBank.d536.s11    metformin            79          87  train\n\n[694 rows x 5 columns]\n---\nPrinting Ner_df\n               sentence_id ner_id char_start_id char_end_id\n1     DDI-DrugBank.d519.s0  brand            45          52\n2     DDI-DrugBank.d519.s1  brand            66          73\n3     DDI-DrugBank.d519.s2  brand             0           7\n4     DDI-DrugBank.d519.s3  brand            29          36\n5     DDI-DrugBank.d519.s3   drug            83          94\n..                     ...    ...           ...         ...\n110  DDI-DrugBank.d536.s10   drug            34          42\n111  DDI-DrugBank.d536.s10   drug            89          96\n112  DDI-DrugBank.d536.s10   drug           141         149\n113  DDI-DrugBank.d536.s11   drug            66          73\n114  DDI-DrugBank.d536.s11   drug            79          87\n\n[114 rows x 4 columns]\nEncoding labels into numeric values...\n               sentence_id  token_id char_start_id char_end_id  split\n1     DDI-DrugBank.d436.s0        19             0           1  train\n2     DDI-DrugBank.d436.s0       132             3           6  train\n3     DDI-DrugBank.d436.s0       223             8          18  train\n4     DDI-DrugBank.d436.s0       284            20          29  train\n5     DDI-DrugBank.d436.s0       146            31          34  train\n..                     ...       ...           ...         ...    ...\n690  DDI-DrugBank.d536.s11       182            46          56  train\n691  DDI-DrugBank.d536.s11        82            58          64  train\n692  DDI-DrugBank.d536.s11         3            66          73  train\n693  DDI-DrugBank.d536.s11        61            75          77  train\n694  DDI-DrugBank.d536.s11       212            79          87  train\n\n[694 rows x 5 columns]\n               sentence_id  ner_id char_start_id char_end_id\n1     DDI-DrugBank.d519.s0       0            45          52\n2     DDI-DrugBank.d519.s1       0            66          73\n3     DDI-DrugBank.d519.s2       0             0           7\n4     DDI-DrugBank.d519.s3       0            29          36\n5     DDI-DrugBank.d519.s3       1            83          94\n..                     ...     ...           ...         ...\n110  DDI-DrugBank.d536.s10       1            34          42\n111  DDI-DrugBank.d536.s10       1            89          96\n112  DDI-DrugBank.d536.s10       1           141         149\n113  DDI-DrugBank.d536.s11       1            66          73\n114  DDI-DrugBank.d536.s11       1            79          87\n\n[114 rows x 4 columns]\n{0: 'AUC', 1: 'Abciximab', 2: 'Acamprosate', 3: 'Acarbose', 4: 'C', 5: 'Certain', 6: 'Cmax', 7: 'Concurrent', 8: 'Cytochrome', 9: 'Day', 10: 'Formal', 11: 'HACA', 12: 'Heparin', 13: 'However', 14: 'In', 15: 'Intestinal', 16: 'Laboratory', 17: 'MTX', 18: 'NSAIDs', 19: 'No', 20: 'ORENCIA', 21: 'Other', 22: 'PSA', 23: 'Patients', 24: 'Periodic', 25: 'Pharmacokinetic', 26: 'Plenaxis', 27: 'Population', 28: 'RA', 29: 'Response', 30: 'Serum', 31: 'Studies', 32: 'TNF', 33: 'Tests', 34: 'The', 35: 'There', 36: 'These', 37: 'When', 38: 'a', 39: 'abatacept', 40: 'absorbed', 41: 'absorption', 42: 'acamprosate', 43: 'acid', 44: 'additional', 45: 'adjustment', 46: 'administered', 47: 'administration', 48: 'adsorbents', 49: 'affect', 50: 'agents', 51: 'alcohol', 52: 'allergic', 53: 'alone', 54: 'also', 55: 'amount', 56: 'amylase', 57: 'an', 58: 'anakinra', 59: 'analgesics', 60: 'analyses', 61: 'and', 62: 'angina', 63: 'angiotensin', 64: 'antagonist', 65: 'antagonists', 66: 'anti', 67: 'antibodies', 68: 'anticoagulants', 69: 'antidepressants', 70: 'anxiolytics', 71: 'any', 72: 'approximately', 73: 'are', 74: 'as', 75: 'aspirin', 76: 'assess', 77: 'associated', 78: 'azathioprine', 79: 'be', 80: 'been', 81: 'before', 82: 'between', 83: 'bioavailabillty', 84: 'bioequivalent', 85: 'bleeding', 86: 'blockers', 87: 'blocking', 88: 'blood', 89: 'both', 90: 'bound', 91: 'broad', 92: 'by', 93: 'calcium', 94: 'change', 95: 'channel', 96: 'charcoal', 97: 'chloroquine', 98: 'clearance', 99: 'clinical', 100: 'clinically', 101: 'closely', 102: 'combination', 103: 'commonly', 104: 'compared', 105: 'concentrations', 106: 'concomitant', 107: 'concomitantly', 108: 'concurrently', 109: 'conducted', 110: 'confidence', 111: 'considered', 112: 'containing', 113: 'contraceptives', 114: 'control', 115: 'converting', 116: 'corticosteroids', 117: 'decrease', 118: 'delay', 119: 'diabetic', 120: 'diagnostic', 121: 'diazepam', 122: 'did', 123: 'digestive', 124: 'digoxin', 125: 'disease', 126: 'disposition', 127: 'disulfiram', 128: 'diuretics', 129: 'does', 130: 'dosage', 131: 'dose', 132: 'drug', 133: 'drugs', 134: 'due', 135: 'during', 136: 'effect', 137: 'efficacy', 138: 'either', 139: 'enzyme', 140: 'enzymes', 141: 'estrogens', 142: 'every', 143: 'evidence', 144: 'experience', 145: 'following', 146: 'food', 147: 'for', 148: 'formal', 149: 'from', 150: 'gain', 151: 'glucose', 152: 'glyburide', 153: 'gold', 154: 'has', 155: 'have', 156: 'healthy', 157: 'heart', 158: 'heparin', 159: 'herb', 160: 'highly', 161: 'hydroxychloroquine', 162: 'hyperglycemia', 163: 'hypersensitivity', 164: 'hypertension', 165: 'hypnotics', 166: 'hypoglycemia', 167: 'if', 168: 'in', 169: 'include', 170: 'included', 171: 'increase', 172: 'increased', 173: 'indicate', 174: 'indicated', 175: 'infarction', 176: 'infections', 177: 'influence', 178: 'inhibitors', 179: 'insufficient', 180: 'insulin', 181: 'intake', 182: 'interaction', 183: 'interactions', 184: 'interfere', 185: 'interval', 186: 'intravenous', 187: 'involved', 188: 'is', 189: 'ischemic', 190: 'isoniazid', 191: 'its', 192: 'just', 193: 'known', 194: 'lead', 195: 'leflunomide', 196: 'level', 197: 'levels', 198: 'limit', 199: 'little', 200: 'loss', 201: 'major', 202: 'majority', 203: 'max', 204: 'may', 205: 'mean', 206: 'measurement', 207: 'measuring', 208: 'medication', 209: 'medications', 210: 'metabolism', 211: 'metabolite', 212: 'metformin', 213: 'monitored', 214: 'monoclonal', 215: 'more', 216: 'myocardial', 217: 'naltrexone', 218: 'nicotinic', 219: 'nifedipine', 220: 'nitrates', 221: 'no', 222: 'not', 223: 'nutritional', 224: 'observed', 225: 'obtained', 226: 'of', 227: 'on', 228: 'one', 229: 'or', 230: 'oral', 231: 'other', 232: 'over', 233: 'pancreatin', 234: 'patient', 235: 'patients', 236: 'peak', 237: 'performed', 238: 'periodically', 239: 'pharmacodynamics', 240: 'pharmacokinetic', 241: 'pharmacokinetics', 242: 'phenothiazines', 243: 'phenytoin', 244: 'placebo', 245: 'plasma', 246: 'platelet', 247: 'preparations', 248: 'prior', 249: 'produce', 250: 'produced', 251: 'products', 252: 'profile', 253: 'propranolol', 254: 'proteins', 255: 'range', 256: 'ranitidine', 257: 'reactions', 258: 'received', 259: 'receiving', 260: 'receptor', 261: 'recommended', 262: 'reduce', 263: 'reduced', 264: 'reported', 265: 'require', 266: 'revealed', 267: 'risk', 268: 'safety', 269: 'sedatives', 270: 'serious', 271: 'serum', 272: 'should', 273: 'shown', 274: 'significant', 275: 'similar', 276: 'slight', 277: 'starting', 278: 'studies', 279: 'subjects', 280: 'such', 281: 'sulfasalazine', 282: 'sulfonylurea', 283: 'sulfonylureas', 284: 'supplement', 285: 'sympathomimetics', 286: 'taken', 287: 'taking', 288: 'tend', 289: 'testosterone', 290: 'that', 291: 'the', 292: 'therapeutic', 293: 'therapies', 294: 'therapy', 295: 'thereafter', 296: 'therefore', 297: 'these', 298: 'they', 299: 'thiazides', 300: 'thrombolytics', 301: 'thyroid', 302: 'ticlopidine', 303: 'titers', 304: 'to', 305: 'total', 306: 'transaminase', 307: 'treated', 308: 'treatment', 309: 'trials', 310: 'trough', 311: 'unaffected', 312: 'use', 313: 'used', 314: 'values', 315: 'volunteers', 316: 'warfarin', 317: 'was', 318: 'weeks', 319: 'weight', 320: 'were', 321: 'when', 322: 'which', 323: 'while', 324: 'with', 325: 'withdrawn', 326: 'yet'}\n{0: 'brand', 1: 'drug', 2: 'drug_n', 3: 'group'}\nMaking train and validation set in ratio 8-2 of total training set . . . \nMaking test-set . . . \nDone\n"
    }
   ],
   "source": [
    "dataset = DataLoader(data_dir=\"DDICorpus\", device=None)"
   ]
  },
  {
   "cell_type": "code",
   "execution_count": 4,
   "metadata": {
    "scrolled": false
   },
   "outputs": [
    {
     "output_type": "execute_result",
     "data": {
      "text/plain": "            sentence_id  token_id char_start_id char_end_id  split\n1  DDI-DrugBank.d436.s0        19             0           1  train\n2  DDI-DrugBank.d436.s0       132             3           6  train\n3  DDI-DrugBank.d436.s0       223             8          18  train\n4  DDI-DrugBank.d436.s0       284            20          29  train\n5  DDI-DrugBank.d436.s0       146            31          34  train",
      "text/html": "<div>\n<style scoped>\n    .dataframe tbody tr th:only-of-type {\n        vertical-align: middle;\n    }\n\n    .dataframe tbody tr th {\n        vertical-align: top;\n    }\n\n    .dataframe thead th {\n        text-align: right;\n    }\n</style>\n<table border=\"1\" class=\"dataframe\">\n  <thead>\n    <tr style=\"text-align: right;\">\n      <th></th>\n      <th>sentence_id</th>\n      <th>token_id</th>\n      <th>char_start_id</th>\n      <th>char_end_id</th>\n      <th>split</th>\n    </tr>\n  </thead>\n  <tbody>\n    <tr>\n      <th>1</th>\n      <td>DDI-DrugBank.d436.s0</td>\n      <td>19</td>\n      <td>0</td>\n      <td>1</td>\n      <td>train</td>\n    </tr>\n    <tr>\n      <th>2</th>\n      <td>DDI-DrugBank.d436.s0</td>\n      <td>132</td>\n      <td>3</td>\n      <td>6</td>\n      <td>train</td>\n    </tr>\n    <tr>\n      <th>3</th>\n      <td>DDI-DrugBank.d436.s0</td>\n      <td>223</td>\n      <td>8</td>\n      <td>18</td>\n      <td>train</td>\n    </tr>\n    <tr>\n      <th>4</th>\n      <td>DDI-DrugBank.d436.s0</td>\n      <td>284</td>\n      <td>20</td>\n      <td>29</td>\n      <td>train</td>\n    </tr>\n    <tr>\n      <th>5</th>\n      <td>DDI-DrugBank.d436.s0</td>\n      <td>146</td>\n      <td>31</td>\n      <td>34</td>\n      <td>train</td>\n    </tr>\n  </tbody>\n</table>\n</div>"
     },
     "metadata": {},
     "execution_count": 4
    }
   ],
   "source": [
    "dataset.data_df.head()"
   ]
  },
  {
   "cell_type": "code",
   "execution_count": 5,
   "metadata": {
    "scrolled": true
   },
   "outputs": [
    {
     "output_type": "execute_result",
     "data": {
      "text/plain": "            sentence_id  ner_id char_start_id char_end_id\n1  DDI-DrugBank.d519.s0       0            45          52\n2  DDI-DrugBank.d519.s1       0            66          73\n3  DDI-DrugBank.d519.s2       0             0           7\n4  DDI-DrugBank.d519.s3       0            29          36\n5  DDI-DrugBank.d519.s3       1            83          94",
      "text/html": "<div>\n<style scoped>\n    .dataframe tbody tr th:only-of-type {\n        vertical-align: middle;\n    }\n\n    .dataframe tbody tr th {\n        vertical-align: top;\n    }\n\n    .dataframe thead th {\n        text-align: right;\n    }\n</style>\n<table border=\"1\" class=\"dataframe\">\n  <thead>\n    <tr style=\"text-align: right;\">\n      <th></th>\n      <th>sentence_id</th>\n      <th>ner_id</th>\n      <th>char_start_id</th>\n      <th>char_end_id</th>\n    </tr>\n  </thead>\n  <tbody>\n    <tr>\n      <th>1</th>\n      <td>DDI-DrugBank.d519.s0</td>\n      <td>0</td>\n      <td>45</td>\n      <td>52</td>\n    </tr>\n    <tr>\n      <th>2</th>\n      <td>DDI-DrugBank.d519.s1</td>\n      <td>0</td>\n      <td>66</td>\n      <td>73</td>\n    </tr>\n    <tr>\n      <th>3</th>\n      <td>DDI-DrugBank.d519.s2</td>\n      <td>0</td>\n      <td>0</td>\n      <td>7</td>\n    </tr>\n    <tr>\n      <th>4</th>\n      <td>DDI-DrugBank.d519.s3</td>\n      <td>0</td>\n      <td>29</td>\n      <td>36</td>\n    </tr>\n    <tr>\n      <th>5</th>\n      <td>DDI-DrugBank.d519.s3</td>\n      <td>1</td>\n      <td>83</td>\n      <td>94</td>\n    </tr>\n  </tbody>\n</table>\n</div>"
     },
     "metadata": {},
     "execution_count": 5
    }
   ],
   "source": [
    "dataset.ner_df.head()"
   ]
  },
  {
   "source": [
    "dataset.vocab[:15]"
   ],
   "cell_type": "code",
   "metadata": {
    "scrolled": true
   },
   "execution_count": 6,
   "outputs": [
    {
     "output_type": "execute_result",
     "data": {
      "text/plain": "['AUC',\n 'Abciximab',\n 'Acamprosate',\n 'Acarbose',\n 'C',\n 'Certain',\n 'Cmax',\n 'Concurrent',\n 'Cytochrome',\n 'Day',\n 'Formal',\n 'HACA',\n 'Heparin',\n 'However',\n 'In']"
     },
     "metadata": {},
     "execution_count": 6
    }
   ]
  },
  {
   "cell_type": "code",
   "execution_count": 7,
   "metadata": {
    "scrolled": true
   },
   "outputs": [
    {
     "output_type": "execute_result",
     "data": {
      "text/plain": "{0: 'brand', 1: 'drug', 2: 'drug_n', 3: 'group'}"
     },
     "metadata": {},
     "execution_count": 7
    }
   ],
   "source": [
    "dataset.id2ner"
   ]
  },
  {
   "cell_type": "code",
   "execution_count": 8,
   "metadata": {},
   "outputs": [
    {
     "output_type": "error",
     "ename": "AttributeError",
     "evalue": "'DataLoader' object has no attribute 'max_sample_length'",
     "traceback": [
      "\u001b[0;31m---------------------------------------------------------------------------\u001b[0m",
      "\u001b[0;31mAttributeError\u001b[0m                            Traceback (most recent call last)",
      "\u001b[0;32m<ipython-input-8-9dec1c53913d>\u001b[0m in \u001b[0;36m<module>\u001b[0;34m\u001b[0m\n\u001b[0;32m----> 1\u001b[0;31m \u001b[0mdataset\u001b[0m\u001b[0;34m.\u001b[0m\u001b[0mmax_sample_length\u001b[0m\u001b[0;34m\u001b[0m\u001b[0m\n\u001b[0m",
      "\u001b[0;31mAttributeError\u001b[0m: 'DataLoader' object has no attribute 'max_sample_length'"
     ]
    }
   ],
   "source": [
    "dataset.max_sample_length"
   ]
  },
  {
   "cell_type": "code",
   "execution_count": null,
   "metadata": {
    "scrolled": true
   },
   "outputs": [],
   "source": [
    "dataset.get_random_sample()"
   ]
  },
  {
   "cell_type": "markdown",
   "metadata": {},
   "source": [
    "### Data Exploration"
   ]
  },
  {
   "cell_type": "code",
   "execution_count": null,
   "metadata": {},
   "outputs": [],
   "source": [
    "dataset.plot_split_ner_distribution()"
   ]
  },
  {
   "cell_type": "markdown",
   "metadata": {},
   "source": [
    "### Labels"
   ]
  },
  {
   "cell_type": "code",
   "execution_count": null,
   "metadata": {
    "scrolled": true
   },
   "outputs": [],
   "source": [
    "train_y, val_y, test_y = check_output(dataset.get_y())"
   ]
  },
  {
   "cell_type": "markdown",
   "metadata": {},
   "source": [
    "## Extracting Features"
   ]
  },
  {
   "cell_type": "code",
   "execution_count": null,
   "metadata": {},
   "outputs": [],
   "source": [
    "train_X, val_X, test_X = check_output(extract_features(\n",
    "                                                        data=dataset.data_df,\n",
    "                                                        max_sample_length=dataset.max_sample_length,\n",
    "                                                        #Add any addtional arguments here\n",
    "                                                       ))"
   ]
  },
  {
   "cell_type": "markdown",
   "metadata": {},
   "source": [
    "## Bonus Part: Explore Some more"
   ]
  },
  {
   "cell_type": "code",
   "execution_count": null,
   "metadata": {},
   "outputs": [],
   "source": [
    "#uncomment the code below if you want to do bonus part"
   ]
  },
  {
   "cell_type": "code",
   "execution_count": null,
   "metadata": {},
   "outputs": [],
   "source": [
    "#dataset.plot_ner_per_sample_distribution()"
   ]
  },
  {
   "cell_type": "code",
   "execution_count": null,
   "metadata": {},
   "outputs": [],
   "source": [
    "#dataset.plot_sample_length_distribution()"
   ]
  },
  {
   "cell_type": "code",
   "execution_count": null,
   "metadata": {},
   "outputs": [],
   "source": [
    "#dataset.plot_ner_cooccurence_venndiagram()"
   ]
  }
 ],
 "metadata": {
  "kernelspec": {
   "display_name": "Python 3.6.3 64-bit",
   "language": "python",
   "name": "python36364bit0db8b5b8b3d74560886f32faf7e121e6"
  },
  "language_info": {
   "codemirror_mode": {
    "name": "ipython",
    "version": 3
   },
   "file_extension": ".py",
   "mimetype": "text/x-python",
   "name": "python",
   "nbconvert_exporter": "python",
   "pygments_lexer": "ipython3",
   "version": "3.6.3-final"
  }
 },
 "nbformat": 4,
 "nbformat_minor": 4
}