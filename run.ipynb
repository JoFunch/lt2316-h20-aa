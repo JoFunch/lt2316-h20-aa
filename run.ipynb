{
 "cells": [
  {
   "cell_type": "markdown",
   "metadata": {},
   "source": [
    "# Assignment 1"
   ]
  },
  {
   "cell_type": "markdown",
   "metadata": {},
   "source": [
    "## Loading data"
   ]
  },
  {
   "cell_type": "code",
   "execution_count": 1,
   "metadata": {
    "scrolled": false,
    "tags": []
   },
   "outputs": [],
   "source": [
    "from aa import DataLoader\n",
    "from aa import extract_features\n",
    "from aa import check_output\n",
    "import torch\n",
    "import tensorflow as tf"
   ]
  },
  {
   "cell_type": "code",
   "execution_count": 2,
   "metadata": {},
   "outputs": [],
   "source": [
    "device = torch.device(\"cuda:3\") # if torch.cuda.is_available() else \"cpu\")"
   ]
  },
  {
   "cell_type": "code",
   "execution_count": 3,
   "metadata": {
    "scrolled": true,
    "tags": []
   },
   "outputs": [
    {
     "name": "stdout",
     "output_type": "stream",
     "text": [
      "Printing Data_df\n",
      "              sentence_id     token_id char_start_id char_end_id  split\n",
      "1    DDI-DrugBank.d436.s0           No             0           1  train\n",
      "2    DDI-DrugBank.d436.s0         drug             3           6  train\n",
      "3    DDI-DrugBank.d436.s0  nutritional             8          18  train\n",
      "4    DDI-DrugBank.d436.s0   supplement            20          29  train\n",
      "5    DDI-DrugBank.d436.s0         food            31          34  train\n",
      "..                    ...          ...           ...         ...    ...\n",
      "208  DDI-DrugBank.d297.s5         such           132         135  train\n",
      "209  DDI-DrugBank.d297.s5          use           137         139  train\n",
      "210  DDI-DrugBank.d297.s5           is           141         142  train\n",
      "211  DDI-DrugBank.d297.s5          not           144         146  train\n",
      "212  DDI-DrugBank.d297.s5  recommended           148         158  train\n",
      "\n",
      "[212 rows x 5 columns]\n",
      "---\n",
      "Printing Ner_df\n",
      "             sentence_id ner_id char_start_id char_end_id\n",
      "1   DDI-DrugBank.d519.s0  brand            45          52\n",
      "2   DDI-DrugBank.d519.s1  brand            66          73\n",
      "3   DDI-DrugBank.d519.s2  brand             0           7\n",
      "4   DDI-DrugBank.d519.s3  brand            29          36\n",
      "5   DDI-DrugBank.d519.s3   drug            83          94\n",
      "6   DDI-DrugBank.d519.s4  brand            76          83\n",
      "7   DDI-DrugBank.d297.s0  brand            61          67\n",
      "8   DDI-DrugBank.d297.s1   drug            50          52\n",
      "9   DDI-DrugBank.d297.s1  group            55          60\n",
      "10  DDI-DrugBank.d297.s1  group            63          77\n",
      "11  DDI-DrugBank.d297.s1  group            84         102\n",
      "12  DDI-DrugBank.d297.s1   drug           122         130\n",
      "13  DDI-DrugBank.d297.s2  brand           115         121\n",
      "14  DDI-DrugBank.d297.s2   drug           124         126\n",
      "15  DDI-DrugBank.d297.s2  group           129         134\n",
      "16  DDI-DrugBank.d297.s2  group           137         151\n",
      "17  DDI-DrugBank.d297.s2  group           154         172\n",
      "18  DDI-DrugBank.d297.s2   drug           175         186\n",
      "19  DDI-DrugBank.d297.s2   drug           189         199\n",
      "20  DDI-DrugBank.d297.s2   drug           202         205\n",
      "21  DDI-DrugBank.d297.s2   drug           208         225\n",
      "22  DDI-DrugBank.d297.s2   drug           228         238\n",
      "23  DDI-DrugBank.d297.s2   drug           241         253\n",
      "24  DDI-DrugBank.d297.s2   drug           260         267\n",
      "25  DDI-DrugBank.d297.s3  group            31          44\n",
      "26  DDI-DrugBank.d297.s3  brand            51          57\n",
      "27  DDI-DrugBank.d297.s3  group           179         193\n",
      "28  DDI-DrugBank.d297.s4  brand            24          30\n",
      "29  DDI-DrugBank.d297.s4  group            36          50\n",
      "30  DDI-DrugBank.d297.s5  brand            70          76\n",
      "31  DDI-DrugBank.d297.s5   drug           109         116\n",
      "Encoding labels into numeric values...\n",
      "              sentence_id  token_id char_start_id char_end_id  split\n",
      "1    DDI-DrugBank.d436.s0         7             0           1  train\n",
      "2    DDI-DrugBank.d436.s0        53             3           6  train\n",
      "3    DDI-DrugBank.d436.s0        90             8          18  train\n",
      "4    DDI-DrugBank.d436.s0       118            20          29  train\n",
      "5    DDI-DrugBank.d436.s0        59            31          34  train\n",
      "..                    ...       ...           ...         ...    ...\n",
      "208  DDI-DrugBank.d297.s5       116           132         135  train\n",
      "209  DDI-DrugBank.d297.s5       129           137         139  train\n",
      "210  DDI-DrugBank.d297.s5        75           141         142  train\n",
      "211  DDI-DrugBank.d297.s5        89           144         146  train\n",
      "212  DDI-DrugBank.d297.s5       105           148         158  train\n",
      "\n",
      "[212 rows x 5 columns]\n",
      "             sentence_id  ner_id char_start_id char_end_id\n",
      "1   DDI-DrugBank.d519.s0       0            45          52\n",
      "2   DDI-DrugBank.d519.s1       0            66          73\n",
      "3   DDI-DrugBank.d519.s2       0             0           7\n",
      "4   DDI-DrugBank.d519.s3       0            29          36\n",
      "5   DDI-DrugBank.d519.s3       1            83          94\n",
      "6   DDI-DrugBank.d519.s4       0            76          83\n",
      "7   DDI-DrugBank.d297.s0       0            61          67\n",
      "8   DDI-DrugBank.d297.s1       1            50          52\n",
      "9   DDI-DrugBank.d297.s1       2            55          60\n",
      "10  DDI-DrugBank.d297.s1       2            63          77\n",
      "11  DDI-DrugBank.d297.s1       2            84         102\n",
      "12  DDI-DrugBank.d297.s1       1           122         130\n",
      "13  DDI-DrugBank.d297.s2       0           115         121\n",
      "14  DDI-DrugBank.d297.s2       1           124         126\n",
      "15  DDI-DrugBank.d297.s2       2           129         134\n",
      "16  DDI-DrugBank.d297.s2       2           137         151\n",
      "17  DDI-DrugBank.d297.s2       2           154         172\n",
      "18  DDI-DrugBank.d297.s2       1           175         186\n",
      "19  DDI-DrugBank.d297.s2       1           189         199\n",
      "20  DDI-DrugBank.d297.s2       1           202         205\n",
      "21  DDI-DrugBank.d297.s2       1           208         225\n",
      "22  DDI-DrugBank.d297.s2       1           228         238\n",
      "23  DDI-DrugBank.d297.s2       1           241         253\n",
      "24  DDI-DrugBank.d297.s2       1           260         267\n",
      "25  DDI-DrugBank.d297.s3       2            31          44\n",
      "26  DDI-DrugBank.d297.s3       0            51          57\n",
      "27  DDI-DrugBank.d297.s3       2           179         193\n",
      "28  DDI-DrugBank.d297.s4       0            24          30\n",
      "29  DDI-DrugBank.d297.s4       2            36          50\n",
      "30  DDI-DrugBank.d297.s5       0            70          76\n",
      "31  DDI-DrugBank.d297.s5       1           109         116\n",
      "{0: 'Concurrent', 1: 'Cytochrome', 2: 'Day', 3: 'Formal', 4: 'Laboratory', 5: 'MTX', 6: 'NSAIDs', 7: 'No', 8: 'ORENCIA', 9: 'PSA', 10: 'Periodic', 11: 'Plenaxis', 12: 'Population', 13: 'RA', 14: 'Response', 15: 'Serum', 16: 'TNF', 17: 'Tests', 18: 'The', 19: 'There', 20: 'a', 21: 'abatacept', 22: 'additional', 23: 'administered', 24: 'administration', 25: 'agents', 26: 'alone', 27: 'also', 28: 'an', 29: 'anakinra', 30: 'analyses', 31: 'and', 32: 'antagonist', 33: 'antagonists', 34: 'assess', 35: 'associated', 36: 'azathioprine', 37: 'be', 38: 'been', 39: 'before', 40: 'blocking', 41: 'bound', 42: 'by', 43: 'chloroquine', 44: 'clearance', 45: 'clinical', 46: 'concentrations', 47: 'concomitant', 48: 'concurrently', 49: 'conducted', 50: 'considered', 51: 'corticosteroids', 52: 'did', 53: 'drug', 54: 'during', 55: 'efficacy', 56: 'every', 57: 'experience', 58: 'following', 59: 'food', 60: 'formal', 61: 'gold', 62: 'has', 63: 'have', 64: 'herb', 65: 'highly', 66: 'hydroxychloroquine', 67: 'in', 68: 'increased', 69: 'infections', 70: 'influence', 71: 'insufficient', 72: 'interaction', 73: 'interactions', 74: 'involved', 75: 'is', 76: 'just', 77: 'known', 78: 'leflunomide', 79: 'levels', 80: 'majority', 81: 'may', 82: 'measurement', 83: 'measuring', 84: 'medications', 85: 'metabolism', 86: 'monitored', 87: 'more', 88: 'no', 89: 'not', 90: 'nutritional', 91: 'obtained', 92: 'of', 93: 'on', 94: 'one', 95: 'or', 96: 'over', 97: 'patients', 98: 'performed', 99: 'periodically', 100: 'pharmacokinetic', 101: 'plasma', 102: 'prior', 103: 'proteins', 104: 'received', 105: 'recommended', 106: 'reported', 107: 'revealed', 108: 'risk', 109: 'safety', 110: 'serious', 111: 'serum', 112: 'should', 113: 'significant', 114: 'starting', 115: 'studies', 116: 'such', 117: 'sulfasalazine', 118: 'supplement', 119: 'testosterone', 120: 'that', 121: 'the', 122: 'therapy', 123: 'thereafter', 124: 'therefore', 125: 'to', 126: 'total', 127: 'transaminase', 128: 'treatment', 129: 'use', 130: 'weeks', 131: 'were', 132: 'with', 133: 'yet'}\n",
      "{0: 'brand', 1: 'drug', 2: 'group'}\n"
     ]
    }
   ],
   "source": [
    "dataset = DataLoader(data_dir=\"DDICorpus\", device=device)"
   ]
  },
  {
   "cell_type": "code",
   "execution_count": 4,
   "metadata": {
    "scrolled": false
   },
   "outputs": [
    {
     "data": {
      "text/html": [
       "<div>\n",
       "<style scoped>\n",
       "    .dataframe tbody tr th:only-of-type {\n",
       "        vertical-align: middle;\n",
       "    }\n",
       "\n",
       "    .dataframe tbody tr th {\n",
       "        vertical-align: top;\n",
       "    }\n",
       "\n",
       "    .dataframe thead th {\n",
       "        text-align: right;\n",
       "    }\n",
       "</style>\n",
       "<table border=\"1\" class=\"dataframe\">\n",
       "  <thead>\n",
       "    <tr style=\"text-align: right;\">\n",
       "      <th></th>\n",
       "      <th>sentence_id</th>\n",
       "      <th>token_id</th>\n",
       "      <th>char_start_id</th>\n",
       "      <th>char_end_id</th>\n",
       "      <th>split</th>\n",
       "    </tr>\n",
       "  </thead>\n",
       "  <tbody>\n",
       "    <tr>\n",
       "      <th>1</th>\n",
       "      <td>DDI-DrugBank.d436.s0</td>\n",
       "      <td>7</td>\n",
       "      <td>0</td>\n",
       "      <td>1</td>\n",
       "      <td>train</td>\n",
       "    </tr>\n",
       "    <tr>\n",
       "      <th>2</th>\n",
       "      <td>DDI-DrugBank.d436.s0</td>\n",
       "      <td>53</td>\n",
       "      <td>3</td>\n",
       "      <td>6</td>\n",
       "      <td>train</td>\n",
       "    </tr>\n",
       "    <tr>\n",
       "      <th>3</th>\n",
       "      <td>DDI-DrugBank.d436.s0</td>\n",
       "      <td>90</td>\n",
       "      <td>8</td>\n",
       "      <td>18</td>\n",
       "      <td>train</td>\n",
       "    </tr>\n",
       "    <tr>\n",
       "      <th>4</th>\n",
       "      <td>DDI-DrugBank.d436.s0</td>\n",
       "      <td>118</td>\n",
       "      <td>20</td>\n",
       "      <td>29</td>\n",
       "      <td>train</td>\n",
       "    </tr>\n",
       "    <tr>\n",
       "      <th>5</th>\n",
       "      <td>DDI-DrugBank.d436.s0</td>\n",
       "      <td>59</td>\n",
       "      <td>31</td>\n",
       "      <td>34</td>\n",
       "      <td>train</td>\n",
       "    </tr>\n",
       "  </tbody>\n",
       "</table>\n",
       "</div>"
      ],
      "text/plain": [
       "            sentence_id  token_id char_start_id char_end_id  split\n",
       "1  DDI-DrugBank.d436.s0         7             0           1  train\n",
       "2  DDI-DrugBank.d436.s0        53             3           6  train\n",
       "3  DDI-DrugBank.d436.s0        90             8          18  train\n",
       "4  DDI-DrugBank.d436.s0       118            20          29  train\n",
       "5  DDI-DrugBank.d436.s0        59            31          34  train"
      ]
     },
     "execution_count": 4,
     "metadata": {},
     "output_type": "execute_result"
    }
   ],
   "source": [
    "dataset.data_df.head()"
   ]
  },
  {
   "cell_type": "code",
   "execution_count": 5,
   "metadata": {
    "scrolled": true
   },
   "outputs": [
    {
     "data": {
      "text/html": [
       "<div>\n",
       "<style scoped>\n",
       "    .dataframe tbody tr th:only-of-type {\n",
       "        vertical-align: middle;\n",
       "    }\n",
       "\n",
       "    .dataframe tbody tr th {\n",
       "        vertical-align: top;\n",
       "    }\n",
       "\n",
       "    .dataframe thead th {\n",
       "        text-align: right;\n",
       "    }\n",
       "</style>\n",
       "<table border=\"1\" class=\"dataframe\">\n",
       "  <thead>\n",
       "    <tr style=\"text-align: right;\">\n",
       "      <th></th>\n",
       "      <th>sentence_id</th>\n",
       "      <th>ner_id</th>\n",
       "      <th>char_start_id</th>\n",
       "      <th>char_end_id</th>\n",
       "    </tr>\n",
       "  </thead>\n",
       "  <tbody>\n",
       "    <tr>\n",
       "      <th>1</th>\n",
       "      <td>DDI-DrugBank.d519.s0</td>\n",
       "      <td>0</td>\n",
       "      <td>45</td>\n",
       "      <td>52</td>\n",
       "    </tr>\n",
       "    <tr>\n",
       "      <th>2</th>\n",
       "      <td>DDI-DrugBank.d519.s1</td>\n",
       "      <td>0</td>\n",
       "      <td>66</td>\n",
       "      <td>73</td>\n",
       "    </tr>\n",
       "    <tr>\n",
       "      <th>3</th>\n",
       "      <td>DDI-DrugBank.d519.s2</td>\n",
       "      <td>0</td>\n",
       "      <td>0</td>\n",
       "      <td>7</td>\n",
       "    </tr>\n",
       "    <tr>\n",
       "      <th>4</th>\n",
       "      <td>DDI-DrugBank.d519.s3</td>\n",
       "      <td>0</td>\n",
       "      <td>29</td>\n",
       "      <td>36</td>\n",
       "    </tr>\n",
       "    <tr>\n",
       "      <th>5</th>\n",
       "      <td>DDI-DrugBank.d519.s3</td>\n",
       "      <td>1</td>\n",
       "      <td>83</td>\n",
       "      <td>94</td>\n",
       "    </tr>\n",
       "  </tbody>\n",
       "</table>\n",
       "</div>"
      ],
      "text/plain": [
       "            sentence_id  ner_id char_start_id char_end_id\n",
       "1  DDI-DrugBank.d519.s0       0            45          52\n",
       "2  DDI-DrugBank.d519.s1       0            66          73\n",
       "3  DDI-DrugBank.d519.s2       0             0           7\n",
       "4  DDI-DrugBank.d519.s3       0            29          36\n",
       "5  DDI-DrugBank.d519.s3       1            83          94"
      ]
     },
     "execution_count": 5,
     "metadata": {},
     "output_type": "execute_result"
    }
   ],
   "source": [
    "dataset.ner_df.head()"
   ]
  },
  {
   "cell_type": "code",
   "execution_count": 6,
   "metadata": {
    "scrolled": true
   },
   "outputs": [
    {
     "data": {
      "text/plain": [
       "['Concurrent',\n",
       " 'Cytochrome',\n",
       " 'Day',\n",
       " 'Formal',\n",
       " 'Laboratory',\n",
       " 'MTX',\n",
       " 'NSAIDs',\n",
       " 'No',\n",
       " 'ORENCIA',\n",
       " 'PSA',\n",
       " 'Periodic',\n",
       " 'Plenaxis',\n",
       " 'Population',\n",
       " 'RA',\n",
       " 'Response']"
      ]
     },
     "execution_count": 6,
     "metadata": {},
     "output_type": "execute_result"
    }
   ],
   "source": [
    "dataset.vocab[:15]"
   ]
  },
  {
   "cell_type": "code",
   "execution_count": 7,
   "metadata": {
    "scrolled": true
   },
   "outputs": [
    {
     "data": {
      "text/plain": [
       "{0: 'brand', 1: 'drug', 2: 'group'}"
      ]
     },
     "execution_count": 7,
     "metadata": {},
     "output_type": "execute_result"
    }
   ],
   "source": [
    "dataset.id2ner"
   ]
  },
  {
   "cell_type": "code",
   "execution_count": 8,
   "metadata": {},
   "outputs": [
    {
     "data": {
      "text/plain": [
       "33"
      ]
     },
     "execution_count": 8,
     "metadata": {},
     "output_type": "execute_result"
    }
   ],
   "source": [
    "dataset.max_sample_length"
   ]
  },
  {
   "cell_type": "code",
   "execution_count": 9,
   "metadata": {
    "scrolled": true
   },
   "outputs": [
    {
     "name": "stderr",
     "output_type": "stream",
     "text": [
      "/home/gusflesjo@GU.GU.SE/lt2316-h20-aa/aa/data_loading.py:47: SettingWithCopyWarning: \n",
      "A value is trying to be set on a copy of a slice from a DataFrame.\n",
      "Try using .loc[row_indexer,col_indexer] = value instead\n",
      "\n",
      "See the caveats in the documentation: http://pandas.pydata.org/pandas-docs/stable/user_guide/indexing.html#returning-a-view-versus-a-copy\n",
      "  sample_tokens[\"token\"] = sample_tokens.loc[:,\"token_id\"].apply(decode_word)\n"
     ]
    },
    {
     "data": {
      "text/plain": [
       "'No drug nutritional supplement food or herb interactions have yet been reported'"
      ]
     },
     "execution_count": 9,
     "metadata": {},
     "output_type": "execute_result"
    }
   ],
   "source": [
    "dataset.get_random_sample()"
   ]
  },
  {
   "cell_type": "markdown",
   "metadata": {},
   "source": [
    "### Data Exploration"
   ]
  },
  {
   "cell_type": "code",
   "execution_count": 10,
   "metadata": {},
   "outputs": [
    {
     "data": {
      "image/png": "[encoded data removed]",
      "text/plain": [
       "<Figure size 432x360 with 1 Axes>"
      ]
     },
     "metadata": {
      "needs_background": "light"
     },
     "output_type": "display_data"
    }
   ],
   "source": [
    "dataset.plot_split_ner_distribution()"
   ]
  },
  {
   "cell_type": "markdown",
   "metadata": {},
   "source": [
    "### Labels"
   ]
  },
  {
   "cell_type": "code",
   "execution_count": 11,
   "metadata": {
    "scrolled": true
   },
   "outputs": [],
   "source": [
    "train_y, val_y = check_output(dataset.get_y()) #, test_y"
   ]
  },
  {
   "cell_type": "markdown",
   "metadata": {},
   "source": [
    "## Extracting Features"
   ]
  },
  {
   "cell_type": "code",
   "execution_count": 12,
   "metadata": {},
   "outputs": [
    {
     "name": "stdout",
     "output_type": "stream",
     "text": [
      "              sentence_id  token_id char_start_id char_end_id  split  \\\n",
      "1    DDI-DrugBank.d436.s0         7             0           1  train   \n",
      "2    DDI-DrugBank.d436.s0        53             3           6  train   \n",
      "3    DDI-DrugBank.d436.s0        90             8          18  train   \n",
      "4    DDI-DrugBank.d436.s0       118            20          29  train   \n",
      "5    DDI-DrugBank.d436.s0        59            31          34  train   \n",
      "..                    ...       ...           ...         ...    ...   \n",
      "208  DDI-DrugBank.d297.s5       116           132         135  train   \n",
      "209  DDI-DrugBank.d297.s5       129           137         139  train   \n",
      "210  DDI-DrugBank.d297.s5        75           141         142  train   \n",
      "211  DDI-DrugBank.d297.s5        89           144         146  train   \n",
      "212  DDI-DrugBank.d297.s5       105           148         158  train   \n",
      "\n",
      "            word  pos_tag  uppercase  length  \n",
      "1             No        2          1       2  \n",
      "2           drug        7          0       4  \n",
      "3    nutritional        5          0      11  \n",
      "4     supplement        7          0      10  \n",
      "5           food        7          0       4  \n",
      "..           ...      ...        ...     ...  \n",
      "208         such        5          0       4  \n",
      "209          use        7          0       3  \n",
      "210           is       17          0       2  \n",
      "211          not       10          0       3  \n",
      "212  recommended       16          0      11  \n",
      "\n",
      "[212 rows x 9 columns]\n"
     ]
    }
   ],
   "source": [
    "print(extract_features(dataset.data_df, dataset.max_sample_length, dataset.id2word))\n",
    "\n",
    "\n",
    "\n",
    "#train_X, val_X, test_X = check_output(extract_features(\n",
    "                                                       # data=dataset.data_df,\n",
    "                                                       # max_sample_length=dataset.max_sample_length,\n",
    "                                                        #Add any addtional arguments here\n",
    "                                                      # ))"
   ]
  },
  {
   "cell_type": "markdown",
   "metadata": {},
   "source": [
    "## Bonus Part: Explore Some more"
   ]
  },
  {
   "cell_type": "code",
   "execution_count": 13,
   "metadata": {},
   "outputs": [],
   "source": [
    "#uncomment the code below if you want to do bonus part"
   ]
  },
  {
   "cell_type": "code",
   "execution_count": 14,
   "metadata": {},
   "outputs": [],
   "source": [
    "#dataset.plot_ner_per_sample_distribution()"
   ]
  },
  {
   "cell_type": "code",
   "execution_count": 15,
   "metadata": {},
   "outputs": [],
   "source": [
    "#dataset.plot_sample_length_distribution()"
   ]
  },
  {
   "cell_type": "code",
   "execution_count": 16,
   "metadata": {},
   "outputs": [],
   "source": [
    "#dataset.plot_ner_cooccurence_venndiagram()"
   ]
  },
  {
   "cell_type": "code",
   "execution_count": null,
   "metadata": {},
   "outputs": [],
   "source": []
  },
  {
   "cell_type": "code",
   "execution_count": null,
   "metadata": {},
   "outputs": [],
   "source": []
  },
  {
   "cell_type": "code",
   "execution_count": null,
   "metadata": {},
   "outputs": [],
   "source": []
  },
  {
   "cell_type": "code",
   "execution_count": null,
   "metadata": {},
   "outputs": [],
   "source": []
  },
  {
   "cell_type": "code",
   "execution_count": null,
   "metadata": {},
   "outputs": [],
   "source": []
  },
  {
   "cell_type": "code",
   "execution_count": null,
   "metadata": {},
   "outputs": [],
   "source": []
  },
  {
   "cell_type": "code",
   "execution_count": null,
   "metadata": {},
   "outputs": [],
   "source": []
  }
 ],
 "metadata": {
  "kernelspec": {
   "display_name": "Python 3",
   "language": "python",
   "name": "python3"
  },
  "language_info": {
   "codemirror_mode": {
    "name": "ipython",
    "version": 3
   },
   "file_extension": ".py",
   "mimetype": "text/x-python",
   "name": "python",
   "nbconvert_exporter": "python",
   "pygments_lexer": "ipython3",
   "version": "3.7.4"
  }
 },
 "nbformat": 4,
 "nbformat_minor": 4
}
